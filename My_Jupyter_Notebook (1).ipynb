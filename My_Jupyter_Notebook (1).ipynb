{
 "cells": [
  {
   "cell_type": "markdown",
   "id": "7917c6d8-6ad5-46e2-82ee-6ac281f59581",
   "metadata": {},
   "source": [
    "# My Jupyter Notebook on IBM Watson Studio"
   ]
  },
  {
   "cell_type": "markdown",
   "id": "5bac3b2b-8056-484e-9eed-e2bdc8724bda",
   "metadata": {},
   "source": [
    "**Sofia** <br> \n",
    "Researcher\n"
   ]
  },
  {
   "cell_type": "markdown",
   "id": "0e4f1261-85b5-4e7d-8250-0766035d01af",
   "metadata": {},
   "source": [
    "_I am interested in data science because it is interesting and applied in several fields_"
   ]
  },
  {
   "cell_type": "markdown",
   "id": "2ce65deb-06fc-44d3-9bcd-5bf74014609e",
   "metadata": {},
   "source": [
    "### Execution of a code and display the output:"
   ]
  },
  {
   "cell_type": "code",
   "execution_count": 2,
   "id": "c4fd1abc-f7ac-4712-8f5a-2f064eb08926",
   "metadata": {},
   "outputs": [
    {
     "name": "stdout",
     "output_type": "stream",
     "text": [
      "8\n"
     ]
    }
   ],
   "source": [
    " a = 3 + 5\n",
    " print(a)    "
   ]
  },
  {
   "cell_type": "markdown",
   "id": "f3b8ea1e-f884-4fad-9b00-d2d853af5528",
   "metadata": {},
   "source": [
    "1. book\n",
    "1. pen\n",
    "1. notebook\n",
    "<br>\n",
    "* apple\n",
    "* orange\n",
    "* peach \n",
    "<br> \n",
    "\n",
    "[Google](https://www.google.com/)\n",
    "\n",
    "\n"
   ]
  },
  {
   "cell_type": "code",
   "execution_count": null,
   "id": "5d9a9394-0a87-4149-b22d-e4b38e65adf6",
   "metadata": {},
   "outputs": [],
   "source": []
  }
 ],
 "metadata": {
  "kernelspec": {
   "display_name": "Python",
   "language": "python",
   "name": "conda-env-python-py"
  },
  "language_info": {
   "codemirror_mode": {
    "name": "ipython",
    "version": 3
   },
   "file_extension": ".py",
   "mimetype": "text/x-python",
   "name": "python",
   "nbconvert_exporter": "python",
   "pygments_lexer": "ipython3",
   "version": "3.7.12"
  }
 },
 "nbformat": 4,
 "nbformat_minor": 5
}
